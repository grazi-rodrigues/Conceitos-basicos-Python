{
 "cells": [
  {
   "cell_type": "markdown",
   "id": "c1121d31-3dcd-49a6-9ade-b22cf3294785",
   "metadata": {
    "jp-MarkdownHeadingCollapsed": true
   },
   "source": [
    "## Aritmética Básica\n"
   ]
  },
  {
   "cell_type": "code",
   "execution_count": 21,
   "id": "d6230a37-3b0d-41af-b58d-52b79194ffa1",
   "metadata": {},
   "outputs": [
    {
     "data": {
      "text/plain": [
       "3"
      ]
     },
     "execution_count": 21,
     "metadata": {},
     "output_type": "execute_result"
    }
   ],
   "source": [
    "# Adição\n",
    "2 +1 "
   ]
  },
  {
   "cell_type": "code",
   "execution_count": 22,
   "id": "ad1c654b-5ee3-4239-ab80-4335ff924349",
   "metadata": {},
   "outputs": [
    {
     "data": {
      "text/plain": [
       "1"
      ]
     },
     "execution_count": 22,
     "metadata": {},
     "output_type": "execute_result"
    }
   ],
   "source": [
    "# Subtração\n",
    "2 - 1 "
   ]
  },
  {
   "cell_type": "code",
   "execution_count": null,
   "id": "92187c68-d08d-45b4-b7fd-d13dab28fd38",
   "metadata": {},
   "outputs": [],
   "source": [
    "# Multiplicação\n",
    "2 * 2"
   ]
  },
  {
   "cell_type": "code",
   "execution_count": null,
   "id": "447a8878-35dc-4561-a2a0-b48c81ee9760",
   "metadata": {},
   "outputs": [],
   "source": [
    "# Divisão\n",
    "2 / 2"
   ]
  },
  {
   "cell_type": "code",
   "execution_count": null,
   "id": "2d1a99e5-69e8-4a67-95ba-bf7538e61de9",
   "metadata": {},
   "outputs": [],
   "source": [
    "# Quadrado\n",
    "3 ** 2"
   ]
  },
  {
   "cell_type": "code",
   "execution_count": 25,
   "id": "f438f627-3ef8-4296-9ef0-3ed461d953ac",
   "metadata": {},
   "outputs": [
    {
     "data": {
      "text/plain": [
       "105"
      ]
     },
     "execution_count": 25,
     "metadata": {},
     "output_type": "execute_result"
    }
   ],
   "source": [
    "# Ordem das operações em Python igual na matemática normal\n",
    "2 + 10 * 10 + 3"
   ]
  },
  {
   "cell_type": "code",
   "execution_count": 24,
   "id": "a3d0559e-4482-4a82-8b73-a376bda587b1",
   "metadata": {},
   "outputs": [
    {
     "data": {
      "text/plain": [
       "156"
      ]
     },
     "execution_count": 24,
     "metadata": {},
     "output_type": "execute_result"
    }
   ],
   "source": [
    "# Você pode usar parêntesis para especificar a ordem\n",
    "(2+10) * (10+3)"
   ]
  },
  {
   "cell_type": "code",
   "execution_count": 23,
   "id": "e4126754-65ca-4c51-8472-48ba57e3c491",
   "metadata": {},
   "outputs": [
    {
     "data": {
      "text/plain": [
       "1.5"
      ]
     },
     "execution_count": 23,
     "metadata": {},
     "output_type": "execute_result"
    }
   ],
   "source": [
    "# Especificando um dos números como um float\n",
    "3.0/2"
   ]
  },
  {
   "cell_type": "code",
   "execution_count": 26,
   "id": "bc99a8e9-9821-47f5-b174-d5131bdb840e",
   "metadata": {},
   "outputs": [
    {
     "data": {
      "text/plain": [
       "2.0"
      ]
     },
     "execution_count": 26,
     "metadata": {},
     "output_type": "execute_result"
    }
   ],
   "source": [
    "# Outra forma de fazer raiz quadrada\n",
    "4**0.5"
   ]
  },
  {
   "cell_type": "markdown",
   "id": "ca6f5fef-c105-4569-80f7-135ef362b699",
   "metadata": {
    "jp-MarkdownHeadingCollapsed": true
   },
   "source": [
    "## Atribuição de Variáveis\n",
    "\n",
    "Usamos um único sinal de igual para atribuir rótulos às variáveis."
   ]
  },
  {
   "cell_type": "code",
   "execution_count": 28,
   "id": "a8630150-f2d7-4b11-bd5c-401ad98420d0",
   "metadata": {},
   "outputs": [],
   "source": [
    "# Vamos criar um objeto chamado \"a\" e atribuir o número 5\n",
    "a = 5"
   ]
  },
  {
   "cell_type": "code",
   "execution_count": 29,
   "id": "5dfa515a-7e9c-4e45-92fe-17b8d562af5c",
   "metadata": {},
   "outputs": [
    {
     "data": {
      "text/plain": [
       "10"
      ]
     },
     "execution_count": 29,
     "metadata": {},
     "output_type": "execute_result"
    }
   ],
   "source": [
    "# Somando objetos\n",
    "a+a"
   ]
  },
  {
   "cell_type": "code",
   "execution_count": 30,
   "id": "184b8cf9-32e1-45b6-90d5-f394aa6ab0eb",
   "metadata": {},
   "outputs": [],
   "source": [
    "# Redefinição\n",
    "a = 10"
   ]
  },
  {
   "cell_type": "code",
   "execution_count": 31,
   "id": "608d109e-fbd5-4a3d-9ef9-e83db335621c",
   "metadata": {},
   "outputs": [
    {
     "data": {
      "text/plain": [
       "10"
      ]
     },
     "execution_count": 31,
     "metadata": {},
     "output_type": "execute_result"
    }
   ],
   "source": [
    "# Checa\n",
    "a"
   ]
  },
  {
   "cell_type": "code",
   "execution_count": 32,
   "id": "9245ec28-252c-4b9b-a48a-4e73988cf0e2",
   "metadata": {},
   "outputs": [],
   "source": [
    "variavel_um = 1"
   ]
  },
  {
   "cell_type": "code",
   "execution_count": 33,
   "id": "12f055cf-2b4e-49dd-85b2-dd08403d388a",
   "metadata": {},
   "outputs": [
    {
     "data": {
      "text/plain": [
       "1"
      ]
     },
     "execution_count": 33,
     "metadata": {},
     "output_type": "execute_result"
    }
   ],
   "source": [
    "variavel_um"
   ]
  },
  {
   "cell_type": "code",
   "execution_count": 34,
   "id": "3e2697d6-fd13-48e1-9f7a-61d56af44cf7",
   "metadata": {},
   "outputs": [],
   "source": [
    "terceira_variavel = variavel_um + a"
   ]
  },
  {
   "cell_type": "code",
   "execution_count": 35,
   "id": "65451930-b761-4f8c-8034-9746912c1598",
   "metadata": {},
   "outputs": [
    {
     "data": {
      "text/plain": [
       "11"
      ]
     },
     "execution_count": 35,
     "metadata": {},
     "output_type": "execute_result"
    }
   ],
   "source": [
    "terceira_variavel"
   ]
  },
  {
   "cell_type": "markdown",
   "id": "c97ac68b-9362-4937-bee4-e6717e963cf7",
   "metadata": {
    "jp-MarkdownHeadingCollapsed": true
   },
   "source": [
    "## Strings e Indexação"
   ]
  },
  {
   "cell_type": "code",
   "execution_count": 2,
   "id": "2d7c5db0-bcb1-4d59-b3a4-c6e42923715d",
   "metadata": {},
   "outputs": [],
   "source": [
    "minha_string = \"Hello\""
   ]
  },
  {
   "cell_type": "code",
   "execution_count": 3,
   "id": "8d321de6-2712-4227-af4e-9205eb0bc0f4",
   "metadata": {},
   "outputs": [
    {
     "data": {
      "text/plain": [
       "'Hello'"
      ]
     },
     "execution_count": 3,
     "metadata": {},
     "output_type": "execute_result"
    }
   ],
   "source": [
    "minha_string"
   ]
  },
  {
   "cell_type": "code",
   "execution_count": 4,
   "id": "626a829f-2135-4197-bb9f-e13c449be0a3",
   "metadata": {},
   "outputs": [
    {
     "data": {
      "text/plain": [
       "'Isso é uma string'"
      ]
     },
     "execution_count": 4,
     "metadata": {},
     "output_type": "execute_result"
    }
   ],
   "source": [
    "minha_string2 = 'Isso é uma string'\n",
    "minha_string2"
   ]
  },
  {
   "cell_type": "code",
   "execution_count": 5,
   "id": "29bd5359-398e-48ab-964f-b82c514f8854",
   "metadata": {},
   "outputs": [
    {
     "data": {
      "text/plain": [
       "'Isso é uma \"aspas\" string'"
      ]
     },
     "execution_count": 5,
     "metadata": {},
     "output_type": "execute_result"
    }
   ],
   "source": [
    "minha_string3 = 'Isso é uma \"aspas\" string'\n",
    "minha_string3"
   ]
  },
  {
   "cell_type": "code",
   "execution_count": 6,
   "id": "8eb9295a-27be-420d-a01f-d9504469ebb0",
   "metadata": {},
   "outputs": [
    {
     "name": "stdout",
     "output_type": "stream",
     "text": [
      "Isso é uma \"aspas\" string\n"
     ]
    }
   ],
   "source": [
    "print(minha_string3)  #print é uma palavra reservada "
   ]
  },
  {
   "cell_type": "code",
   "execution_count": 7,
   "id": "b8f1538a-9272-4421-893a-f016d2ff8447",
   "metadata": {},
   "outputs": [
    {
     "data": {
      "text/plain": [
       "25"
      ]
     },
     "execution_count": 7,
     "metadata": {},
     "output_type": "execute_result"
    }
   ],
   "source": [
    "# LEN: Mostra o comprimento para qualquer tipo de dado.\n",
    "len(minha_string3) #obs: ele também conta espaço. "
   ]
  },
  {
   "cell_type": "code",
   "execution_count": 9,
   "id": "71620637-7c14-4920-b64d-9977a472b24c",
   "metadata": {},
   "outputs": [
    {
     "data": {
      "text/plain": [
       "'Hello, Isso é uma string'"
      ]
     },
     "execution_count": 9,
     "metadata": {},
     "output_type": "execute_result"
    }
   ],
   "source": [
    "# Contatenação de STRINGS\n",
    "minha_string + \", \" + minha_string2"
   ]
  },
  {
   "cell_type": "code",
   "execution_count": 15,
   "id": "a8d88d72-c2c6-40f3-a208-5b4022e697f8",
   "metadata": {},
   "outputs": [
    {
     "data": {
      "text/plain": [
       "'e'"
      ]
     },
     "execution_count": 15,
     "metadata": {},
     "output_type": "execute_result"
    }
   ],
   "source": [
    "# INDEXAÇÃO\n",
    "minha_string[1]"
   ]
  },
  {
   "cell_type": "code",
   "execution_count": 16,
   "id": "87a7836e-f3ab-4602-bab3-44b4d611fc2c",
   "metadata": {},
   "outputs": [
    {
     "data": {
      "text/plain": [
       "'ello'"
      ]
     },
     "execution_count": 16,
     "metadata": {},
     "output_type": "execute_result"
    }
   ],
   "source": [
    "minha_string[1:]"
   ]
  },
  {
   "cell_type": "code",
   "execution_count": 17,
   "id": "2aad5c6d-a77b-4891-a33b-65401c37bf9b",
   "metadata": {},
   "outputs": [
    {
     "data": {
      "text/plain": [
       "'ell'"
      ]
     },
     "execution_count": 17,
     "metadata": {},
     "output_type": "execute_result"
    }
   ],
   "source": [
    "minha_string[1:4]"
   ]
  },
  {
   "cell_type": "code",
   "execution_count": 19,
   "id": "058c26a0-f2f0-4350-b5d1-83025becae39",
   "metadata": {},
   "outputs": [
    {
     "data": {
      "text/plain": [
       "'H'"
      ]
     },
     "execution_count": 19,
     "metadata": {},
     "output_type": "execute_result"
    }
   ],
   "source": [
    "minha_string[-5]"
   ]
  },
  {
   "cell_type": "code",
   "execution_count": 20,
   "id": "e641e6af-3d76-43e4-8de9-e99ba20a7daa",
   "metadata": {},
   "outputs": [
    {
     "data": {
      "text/plain": [
       "'Hlo'"
      ]
     },
     "execution_count": 20,
     "metadata": {},
     "output_type": "execute_result"
    }
   ],
   "source": [
    "# Dando espaço de 2 em dois \n",
    "minha_string[::2]"
   ]
  },
  {
   "cell_type": "markdown",
   "id": "54c0961d-4446-4ad8-b430-81d2476c0987",
   "metadata": {
    "jp-MarkdownHeadingCollapsed": true
   },
   "source": [
    "## Algumas propriedades que as strings tem"
   ]
  },
  {
   "cell_type": "code",
   "execution_count": 37,
   "id": "575495fe-23bc-476e-8805-dacac7053720",
   "metadata": {},
   "outputs": [
    {
     "data": {
      "text/plain": [
       "'aaaaaaaaaa'"
      ]
     },
     "execution_count": 37,
     "metadata": {},
     "output_type": "execute_result"
    }
   ],
   "source": [
    "'a' * 10"
   ]
  },
  {
   "cell_type": "code",
   "execution_count": 39,
   "id": "3aa8f459-2792-47b0-9eed-927d99855a11",
   "metadata": {},
   "outputs": [
    {
     "data": {
      "text/plain": [
       "str"
      ]
     },
     "execution_count": 39,
     "metadata": {},
     "output_type": "execute_result"
    }
   ],
   "source": [
    "type(\"a\") # Qual o tipo de dado do elemento"
   ]
  },
  {
   "cell_type": "code",
   "execution_count": 41,
   "id": "b0a5f320-22f5-4498-a796-b7b0b61e9195",
   "metadata": {},
   "outputs": [
    {
     "data": {
      "text/plain": [
       "'hello'"
      ]
     },
     "execution_count": 41,
     "metadata": {},
     "output_type": "execute_result"
    }
   ],
   "source": [
    "# métodos embutidos nos métodos\n",
    "\"Hello\".lower()"
   ]
  },
  {
   "cell_type": "code",
   "execution_count": 45,
   "id": "437f8850-5054-4854-a2b9-d9fc097faf76",
   "metadata": {},
   "outputs": [
    {
     "data": {
      "text/plain": [
       "['Hello', 'Graziele']"
      ]
     },
     "execution_count": 45,
     "metadata": {},
     "output_type": "execute_result"
    }
   ],
   "source": [
    "#esse metodo pega uma string grande e quebra ela, na string que queremos\n",
    "\"HellopGraziele\".split(\"p\") "
   ]
  },
  {
   "cell_type": "code",
   "execution_count": 46,
   "id": "608d39c8-67a8-4e4a-ba4c-6c4cfffb5c94",
   "metadata": {},
   "outputs": [
    {
     "data": {
      "text/plain": [
       "'HELLO'"
      ]
     },
     "execution_count": 46,
     "metadata": {},
     "output_type": "execute_result"
    }
   ],
   "source": [
    "\"Hello\".upper() #Colaca em maiuscula "
   ]
  },
  {
   "cell_type": "code",
   "execution_count": 50,
   "id": "2b23c1da-e602-4d4d-848e-682f6f44e4cb",
   "metadata": {},
   "outputs": [
    {
     "data": {
      "text/plain": [
       "'Idade da pessoa é: 10'"
      ]
     },
     "execution_count": 50,
     "metadata": {},
     "output_type": "execute_result"
    }
   ],
   "source": [
    "# utilizando o método Formatação\n",
    "idade = 10\n",
    "\"Idade da pessoa é: {}\".format(idade)"
   ]
  },
  {
   "cell_type": "code",
   "execution_count": 55,
   "id": "8e7aaa0b-67ed-4158-9666-50f745c14e0f",
   "metadata": {},
   "outputs": [
    {
     "data": {
      "text/plain": [
       "'Idade da pessoa é: 23 e o nome é: Graziele Rodrigues'"
      ]
     },
     "execution_count": 55,
     "metadata": {},
     "output_type": "execute_result"
    }
   ],
   "source": [
    "idade = 23\n",
    "nome = \"Graziele Rodrigues\"\n",
    "\"Idade da pessoa é: {} e o nome é: {}\".format(idade, nome)"
   ]
  },
  {
   "cell_type": "code",
   "execution_count": 59,
   "id": "f19e4701-f6e1-435c-a271-7f65792c6155",
   "metadata": {},
   "outputs": [],
   "source": [
    "minha_string_2 = \"Eu tenho 20 anos\""
   ]
  },
  {
   "cell_type": "code",
   "execution_count": 60,
   "id": "4f9b8742-e4a0-45cf-94e9-9d5df6906d33",
   "metadata": {},
   "outputs": [
    {
     "data": {
      "text/plain": [
       "['Eu', 'tenho', '20', 'anos']"
      ]
     },
     "execution_count": 60,
     "metadata": {},
     "output_type": "execute_result"
    }
   ],
   "source": [
    "minha_string_2.split() # método split(): separação de string "
   ]
  },
  {
   "cell_type": "code",
   "execution_count": 62,
   "id": "614ca4b3-867e-457c-b65e-3582d48f600a",
   "metadata": {},
   "outputs": [
    {
     "data": {
      "text/plain": [
       "'eu tenho 20 anos'"
      ]
     },
     "execution_count": 62,
     "metadata": {},
     "output_type": "execute_result"
    }
   ],
   "source": [
    "minha_string_2.lower()"
   ]
  },
  {
   "cell_type": "code",
   "execution_count": 64,
   "id": "5c101154-aa5c-4cea-8d5d-9c3bf4003107",
   "metadata": {},
   "outputs": [
    {
     "data": {
      "text/plain": [
       "'EU TENHO 20 ANOS'"
      ]
     },
     "execution_count": 64,
     "metadata": {},
     "output_type": "execute_result"
    }
   ],
   "source": [
    "minha_string_2.upper()"
   ]
  },
  {
   "cell_type": "markdown",
   "id": "743c23c6-3368-431a-8bef-4fa423b33d77",
   "metadata": {
    "jp-MarkdownHeadingCollapsed": true
   },
   "source": [
    "## Lista"
   ]
  },
  {
   "cell_type": "code",
   "execution_count": 1,
   "id": "aa401970-355b-494c-b80b-7b1ea4c240bc",
   "metadata": {},
   "outputs": [],
   "source": [
    "minha_lista = [1, 2 , 3]"
   ]
  },
  {
   "cell_type": "code",
   "execution_count": 2,
   "id": "ad31b9a6-f126-433a-9ea8-df9d6893786e",
   "metadata": {},
   "outputs": [
    {
     "data": {
      "text/plain": [
       "[1, 2, 3]"
      ]
     },
     "execution_count": 2,
     "metadata": {},
     "output_type": "execute_result"
    }
   ],
   "source": [
    "minha_lista"
   ]
  },
  {
   "cell_type": "code",
   "execution_count": 5,
   "id": "73a7d4ad-9eec-465e-88f2-251fe6307de4",
   "metadata": {},
   "outputs": [
    {
     "data": {
      "text/plain": [
       "list"
      ]
     },
     "execution_count": 5,
     "metadata": {},
     "output_type": "execute_result"
    }
   ],
   "source": [
    "type(minha_lista) # tipo de dado do elemento"
   ]
  },
  {
   "cell_type": "code",
   "execution_count": 7,
   "id": "dd1d02f4-5985-493b-be2d-97f07d0ad0c7",
   "metadata": {},
   "outputs": [
    {
     "data": {
      "text/plain": [
       "3"
      ]
     },
     "execution_count": 7,
     "metadata": {},
     "output_type": "execute_result"
    }
   ],
   "source": [
    "minha_lista[2]"
   ]
  },
  {
   "cell_type": "markdown",
   "id": "9bf05fd6-70e0-4ceb-89ea-ca8e571745d6",
   "metadata": {
    "jp-MarkdownHeadingCollapsed": true
   },
   "source": [
    "## Métodos básicos de listas"
   ]
  },
  {
   "cell_type": "code",
   "execution_count": 8,
   "id": "3426a9dc-26d7-46db-b14a-1c502f53f0bd",
   "metadata": {},
   "outputs": [],
   "source": [
    "l = [1, 2, 3]"
   ]
  },
  {
   "cell_type": "code",
   "execution_count": 10,
   "id": "7f139d60-cfc1-43b3-9ff3-b69fb3d49ae1",
   "metadata": {},
   "outputs": [],
   "source": [
    "l.append(\"4\") # Adicionando elemento com o método append"
   ]
  },
  {
   "cell_type": "code",
   "execution_count": 11,
   "id": "e862dbbf-223c-47ad-87fc-f68a0a543a76",
   "metadata": {},
   "outputs": [
    {
     "data": {
      "text/plain": [
       "[1, 2, 3, '4']"
      ]
     },
     "execution_count": 11,
     "metadata": {},
     "output_type": "execute_result"
    }
   ],
   "source": [
    "l"
   ]
  },
  {
   "cell_type": "code",
   "execution_count": 12,
   "id": "ea06b7b0-03f9-4b8f-a1c8-69516da99cf0",
   "metadata": {},
   "outputs": [
    {
     "data": {
      "text/plain": [
       "'4'"
      ]
     },
     "execution_count": 12,
     "metadata": {},
     "output_type": "execute_result"
    }
   ],
   "source": [
    "l.pop() # Esse método retira o último elemento da lista e retorna qual foi retirado"
   ]
  },
  {
   "cell_type": "code",
   "execution_count": 13,
   "id": "2ff40e8d-16ec-44df-9943-b25d4de4bdb9",
   "metadata": {},
   "outputs": [],
   "source": [
    "new_lista = [\"a\", \"b\", \"c\", \"d\"]"
   ]
  },
  {
   "cell_type": "code",
   "execution_count": 14,
   "id": "60fd9565-83f8-4200-b0e5-14f1131231b2",
   "metadata": {},
   "outputs": [],
   "source": [
    "new_lista.sort() # Ordena uma lista"
   ]
  },
  {
   "cell_type": "code",
   "execution_count": 15,
   "id": "a7338369-656f-4b2b-b4e3-b3cfd975df0e",
   "metadata": {},
   "outputs": [
    {
     "data": {
      "text/plain": [
       "['a', 'b', 'c', 'd']"
      ]
     },
     "execution_count": 15,
     "metadata": {},
     "output_type": "execute_result"
    }
   ],
   "source": [
    "new_lista"
   ]
  },
  {
   "cell_type": "code",
   "execution_count": 21,
   "id": "524fc264-d15a-4ac3-913a-0096aa0bce34",
   "metadata": {},
   "outputs": [],
   "source": [
    "new_lista.reverse() #Inverte a ordem dos elementos"
   ]
  },
  {
   "cell_type": "code",
   "execution_count": 22,
   "id": "47044a0b-6d3c-4949-af21-1df2ac50ccfb",
   "metadata": {},
   "outputs": [
    {
     "data": {
      "text/plain": [
       "['a', 'b', 'c', 'd']"
      ]
     },
     "execution_count": 22,
     "metadata": {},
     "output_type": "execute_result"
    }
   ],
   "source": [
    "new_lista"
   ]
  },
  {
   "cell_type": "code",
   "execution_count": 26,
   "id": "aa1bc790-9aeb-4dc6-a291-8018853d44d0",
   "metadata": {},
   "outputs": [],
   "source": [
    "# Combinação de listas\n",
    "lista1 = [1, 2, 3] \n",
    "lista2 = [4, 5, 6] \n",
    "lista3 = [7, 8, 9]"
   ]
  },
  {
   "cell_type": "code",
   "execution_count": 27,
   "id": "20ec0014-737d-4f13-b7d7-c3114e217bdb",
   "metadata": {},
   "outputs": [],
   "source": [
    "lista4 = [lista1, lista2, lista3]"
   ]
  },
  {
   "cell_type": "code",
   "execution_count": 28,
   "id": "7d81f617-5669-4e5f-a615-f5b37aa2d501",
   "metadata": {},
   "outputs": [
    {
     "data": {
      "text/plain": [
       "[[1, 2, 3], [4, 5, 6], [7, 8, 9]]"
      ]
     },
     "execution_count": 28,
     "metadata": {},
     "output_type": "execute_result"
    }
   ],
   "source": [
    "lista4"
   ]
  },
  {
   "cell_type": "code",
   "execution_count": 31,
   "id": "3fc0f603-ca35-4af1-a9c8-d0c6920c2560",
   "metadata": {},
   "outputs": [],
   "source": [
    "p = [1, 2, \"Maria\", \"João\", 3, [1, 2, 3]]"
   ]
  },
  {
   "cell_type": "code",
   "execution_count": 33,
   "id": "59fccf7e-6760-47b4-a247-cb13b7202cdd",
   "metadata": {},
   "outputs": [
    {
     "data": {
      "text/plain": [
       "['João', 3, [1, 2, 3]]"
      ]
     },
     "execution_count": 33,
     "metadata": {},
     "output_type": "execute_result"
    }
   ],
   "source": [
    "p[-3:]"
   ]
  },
  {
   "cell_type": "markdown",
   "id": "068b85bf-9f27-4938-a9f0-dac5d9288250",
   "metadata": {},
   "source": [
    "## Dicionários\n",
    "\n",
    "Uma estrutura que armazena pares de dados, onde todo elemento possui uma chave e um valor"
   ]
  },
  {
   "cell_type": "code",
   "execution_count": 38,
   "id": "82b04d5a-5a2c-4905-863a-f2f159d8ca58",
   "metadata": {},
   "outputs": [],
   "source": [
    "meu_dicionario = {\"nome\": \"Graziele\", \"idade\": 23, \"filhos\": [\"João\", \"Maria\"]}"
   ]
  },
  {
   "cell_type": "code",
   "execution_count": 41,
   "id": "1589a28f-fcee-4669-88a7-54f82e7d5d84",
   "metadata": {},
   "outputs": [
    {
     "data": {
      "text/plain": [
       "'Graziele'"
      ]
     },
     "execution_count": 41,
     "metadata": {},
     "output_type": "execute_result"
    }
   ],
   "source": [
    "meu_dicionario[\"nome\"]"
   ]
  },
  {
   "cell_type": "code",
   "execution_count": 42,
   "id": "670369b7-52d3-4e97-8218-1089fee977ac",
   "metadata": {},
   "outputs": [],
   "source": [
    "meu_dicionario[\"idade\"] = 24"
   ]
  },
  {
   "cell_type": "code",
   "execution_count": 43,
   "id": "f142efe0-4ee5-41d0-a4a0-cffbf79f29af",
   "metadata": {},
   "outputs": [
    {
     "data": {
      "text/plain": [
       "{'nome': 'Graziele', 'idade': 24, 'filhos': ['João', 'Maria']}"
      ]
     },
     "execution_count": 43,
     "metadata": {},
     "output_type": "execute_result"
    }
   ],
   "source": [
    "meu_dicionario"
   ]
  },
  {
   "cell_type": "markdown",
   "id": "d19902b7-fc7d-4ea3-a0f3-5399b1bc383e",
   "metadata": {},
   "source": [
    "alguns métodos em dicionários"
   ]
  },
  {
   "cell_type": "code",
   "execution_count": 45,
   "id": "d8eeb7eb-fdf0-44f9-a441-7cadd79c78c7",
   "metadata": {},
   "outputs": [
    {
     "data": {
      "text/plain": [
       "dict_keys(['nome', 'idade', 'filhos'])"
      ]
     },
     "execution_count": 45,
     "metadata": {},
     "output_type": "execute_result"
    }
   ],
   "source": [
    "meu_dicionario.keys() # Retorna as chaves do dicionário"
   ]
  },
  {
   "cell_type": "code",
   "execution_count": 46,
   "id": "95235d5c-2b47-40d1-9b10-cb7433534d48",
   "metadata": {},
   "outputs": [
    {
     "data": {
      "text/plain": [
       "dict_values(['Graziele', 24, ['João', 'Maria']])"
      ]
     },
     "execution_count": 46,
     "metadata": {},
     "output_type": "execute_result"
    }
   ],
   "source": [
    "meu_dicionario.values() # Retorna todos valores "
   ]
  },
  {
   "cell_type": "code",
   "execution_count": null,
   "id": "34345f29-50af-40c4-bc53-1690ad3f6fea",
   "metadata": {},
   "outputs": [],
   "source": []
  }
 ],
 "metadata": {
  "kernelspec": {
   "display_name": "Python 3 (ipykernel)",
   "language": "python",
   "name": "python3"
  },
  "language_info": {
   "codemirror_mode": {
    "name": "ipython",
    "version": 3
   },
   "file_extension": ".py",
   "mimetype": "text/x-python",
   "name": "python",
   "nbconvert_exporter": "python",
   "pygments_lexer": "ipython3",
   "version": "3.13.0"
  }
 },
 "nbformat": 4,
 "nbformat_minor": 5
}
